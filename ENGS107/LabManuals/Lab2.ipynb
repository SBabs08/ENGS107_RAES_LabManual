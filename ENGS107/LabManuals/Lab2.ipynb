{
 "cells": [
  {
   "cell_type": "markdown",
   "id": "df20d602",
   "metadata": {},
   "source": [
    "## Lab2- Normal distributions and the Galton board\n",
    "### Sample"
   ]
  },
  {
   "cell_type": "markdown",
   "id": "d340eca9",
   "metadata": {},
   "source": [
    "#### Packages"
   ]
  },
  {
   "cell_type": "code",
   "execution_count": null,
   "id": "1ac52994",
   "metadata": {},
   "outputs": [],
   "source": [
    "install.packages(\"animation\")\n"
   ]
  },
  {
   "cell_type": "code",
   "execution_count": null,
   "id": "515779e0",
   "metadata": {},
   "outputs": [],
   "source": [
    "library(\"animation\")\n",
    "set.seed(1)\n",
    "balls = 10^ 3\n",
    "layers = 15\n",
    "ani.options(nmax = balls + layers -2)\n",
    "quincunx(balls = balls, layers = layers, col.balls = \"white\")"
   ]
  },
  {
   "cell_type": "code",
   "execution_count": null,
   "id": "e42a6e72",
   "metadata": {},
   "outputs": [],
   "source": [
    "help(quincunx)"
   ]
  },
  {
   "cell_type": "code",
   "execution_count": null,
   "id": "cb60378e",
   "metadata": {},
   "outputs": [],
   "source": [
    "quincunx(balls = 200, layers = 15, pch.layers = 2, pch.balls = 19, \n",
    "    col.balls = sample(colors(), balls, TRUE), cex.balls = 2)"
   ]
  },
  {
   "cell_type": "code",
   "execution_count": null,
   "id": "0cc8df0f",
   "metadata": {},
   "outputs": [],
   "source": [
    "ani.options(nmax = 14) # sets the number of animation frames\n",
    "quincunx(balls = 1) # runs the animation"
   ]
  },
  {
   "cell_type": "code",
   "execution_count": null,
   "id": "f73bec4a",
   "metadata": {},
   "outputs": [],
   "source": [
    "n.balls <- 200 # sets the number of balls to drop\n",
    "n.rows <- 15 # sets the number of rows of pins in the Galton board\n",
    "ani.options(nmax = n.balls+ n.rows- 2)\n",
    "quincunx(balls = n.balls, layers = n.rows)"
   ]
  },
  {
   "cell_type": "markdown",
   "id": "7584d9ca",
   "metadata": {},
   "source": [
    "#### R-Script and for loops"
   ]
  },
  {
   "cell_type": "code",
   "execution_count": null,
   "id": "157f4081",
   "metadata": {},
   "outputs": [],
   "source": [
    "set.seed(1)\n",
    "n.rows <- 15\n",
    "path <- sample(x = c(-0.5, 0.5), size = (n.rows- 1), replace = TRUE)\n",
    "print(path)"
   ]
  },
  {
   "cell_type": "code",
   "execution_count": null,
   "id": "0653f9a5",
   "metadata": {},
   "outputs": [],
   "source": [
    "bin <- sum(path)\n",
    "print(bin)"
   ]
  },
  {
   "cell_type": "code",
   "execution_count": null,
   "id": "207250a3",
   "metadata": {},
   "outputs": [],
   "source": [
    "n.times <- 3 # not part of the for loop syntax\n",
    "for (i in 1: n.times) { # note the open curly brace!  \n",
    "  print(i) # instructions to be repeated go here\n",
    "} # note the close curly brace!"
   ]
  },
  {
   "cell_type": "code",
   "execution_count": null,
   "id": "fb98984f",
   "metadata": {},
   "outputs": [],
   "source": [
    "n.times <- 5 # not part of the for loop syntax\n",
    "output <- rep(1, n.times) # makes a vector of five 1's\n",
    "for (i in 3: n.times) {\n",
    "  # stores the sum of the preceding two elements of output in the ith element\n",
    "  # of output\n",
    "  output[i] <- sum(output[(i- 2): (i- 1)])\n",
    "}\n",
    "print(output)"
   ]
  },
  {
   "cell_type": "code",
   "execution_count": null,
   "id": "ebe2f845",
   "metadata": {},
   "outputs": [],
   "source": [
    "norm.vals <- rnorm(100, mean = 5, sd = 3) # generates normally-distributed values\n",
    "qqnorm(norm.vals) # makes the q-q plot\n",
    "qqline(norm.vals) # adds a line; do the points lie on this line? "
   ]
  },
  {
   "cell_type": "markdown",
   "id": "595b2499",
   "metadata": {},
   "source": [
    "### Exercise"
   ]
  },
  {
   "cell_type": "code",
   "execution_count": null,
   "id": "d2f9926d",
   "metadata": {},
   "outputs": [],
   "source": [
    "# lab2_Exercise.R\n",
    "# Sitara Baboolal, \n",
    "# \n",
    "# Writing our own simple Galton board script  \n",
    "\n",
    "# Clear away any existing variables or figures.  \n",
    "rm(list = ls())\n",
    "graphics.off()\n",
    "\n",
    "# Set values  \n",
    "n.balls <- 200 # sets the number of balls to drop\n",
    "n.rows <- 15 # sets the number of rows of pins in the Galton board\n",
    "path <- rep(NA, n.balls)\n",
    "\n",
    "for(i in 1:n.balls) {\n",
    "  path <- sample(x = c(-0.5, 0.5), size = (n.rows-1), replace = TRUE)\n",
    " \n",
    "  bin <- sum(path)\n",
    "}\n",
    "\n",
    "# Make a histogram of the results.\n",
    "bin_edges <- seq(-n.rows/ 2, n.rows/ 2, by = 1)\n",
    "hist(bin, bin_edges, xlab = \"Bin\", ylab = \"Frequency\")\n"
   ]
  },
  {
   "cell_type": "code",
   "execution_count": null,
   "id": "58116531",
   "metadata": {},
   "outputs": [],
   "source": [
    "help(faithful)"
   ]
  },
  {
   "cell_type": "code",
   "execution_count": null,
   "id": "8a798883",
   "metadata": {},
   "outputs": [],
   "source": [
    "f.tit <-  \"faithful data: Eruptions of Old Faithful\"\n",
    " \n",
    "qqnorm(faithful[, 2]) # makes the q-q plot\n",
    "qqline(faithful[, 2]) # adds a line; do the points lie on this line? \n",
    "\n",
    "#xlab = \"Eruption time (min)\", ylab = \"Waiting time to next eruption (min)\")"
   ]
  },
  {
   "cell_type": "code",
   "execution_count": null,
   "id": "09455bea",
   "metadata": {},
   "outputs": [],
   "source": [
    "help(iris3)"
   ]
  },
  {
   "cell_type": "code",
   "execution_count": null,
   "id": "68c927d8",
   "metadata": {},
   "outputs": [],
   "source": [
    "qqnorm(iris3[, 1, 1])\n",
    "qqline(iris3[, 1, 1])"
   ]
  }
 ],
 "metadata": {
  "kernelspec": {
   "display_name": "R",
   "language": "R",
   "name": "ir"
  },
  "toc": {
   "base_numbering": 1,
   "nav_menu": {},
   "number_sections": true,
   "sideBar": true,
   "skip_h1_title": false,
   "title_cell": "Table of Contents",
   "title_sidebar": "Contents",
   "toc_cell": false,
   "toc_position": {},
   "toc_section_display": true,
   "toc_window_display": false
  }
 },
 "nbformat": 4,
 "nbformat_minor": 5
}
