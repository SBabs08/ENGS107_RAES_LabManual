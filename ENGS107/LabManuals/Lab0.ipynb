{
 "cells": [
  {
   "cell_type": "markdown",
   "id": "8fb60890",
   "metadata": {},
   "source": [
    "## Lab 0 - Learning teh Basics of R\n",
    "### Sample"
   ]
  },
  {
   "cell_type": "code",
   "execution_count": null,
   "id": "3a259b9f",
   "metadata": {},
   "outputs": [],
   "source": [
    "# lab0_sample.R\n",
    "# Patrick Applegate, patrick.applegate@psu.edu\n",
    "# \n",
    "# Generates a histogram of random samples from a normal distribution\n",
    "# with a mean of 1 and a standard deviation of 1.  You'll need to \n",
    "# modify this script to come up with a full solution to the \n",
    "# exercise.  \n",
    "\n",
    "# Set some values.  \n",
    "num <- 10^3   # number of random draws\n",
    "mu <- 1       # mean of normal distribution to draw from\n",
    "sigma <- 1    # standard deviation of normal distribution\n",
    "\n",
    "# Sample randomly from a normal distribution and assign these values to a \n",
    "# variable called x.  \n",
    "x <- rnorm(n = num, mean = mu, sd = sigma)\n",
    "\n",
    "# Plot the results as a histogram.  Also plot a red line showing the mean\n",
    "# of the parent distribution on top of the histogram, and save the results\n",
    "# to a .pdf file.  \n",
    "pdf(\"lab0_plot1.pdf\", height = 4, width = 4)\n",
    "hist(x, main = \"Patrick Applegate\", xlab = \"gbbsh\", ylab = \"xkkktc\")\n",
    "abline(v = mu, lwd = 2, col = \"red\")\n",
    "dev.off()\n"
   ]
  },
  {
   "cell_type": "markdown",
   "id": "9a7f88e0",
   "metadata": {},
   "source": [
    "### Exercise"
   ]
  },
  {
   "cell_type": "code",
   "execution_count": null,
   "id": "e3e8abf0",
   "metadata": {},
   "outputs": [],
   "source": [
    "%%R\n",
    "# lab0_exercise.R\n",
    "# Sitara Baboolal, sitara.d.baboolal@dartmouth.edu\n",
    "# \n",
    "# Generates a histogram of random samples from a normal distribution\n",
    "# with a mean of 5 and a standard deviation of 2.  \n",
    "# Modified script to come up with a full solution to the \n",
    "# exercise.  \n",
    "\n",
    "# Set some values.  \n",
    "num <- 10^4   # number of random draws\n",
    "mu <- 5       # mean of normal distribution to draw from\n",
    "sigma <- 2    # standard deviation of normal distribution\n",
    "\n",
    "# Sample randomly from a normal distribution and assign these values to a \n",
    "# variable called x.  \n",
    "x <- rnorm(n = num, mean = mu, sd = sigma)\n",
    "\n",
    "# Plot the results as a histogram.  \n",
    "# plot a red line showing the mean and two vertical, blue lines showing \n",
    "# mean minus the standard deviation and the mean plus the standard deviation \n",
    "# of the parent distribution on top of the histogram, and save the results\n",
    "# to a .pdf file.  \n",
    "pdf(\"lab0_plot2.pdf\", height = 4, width = 4)\n",
    "hist(x, main = \"Sitara Baboolal\", xlab = \"Variable\", ylab = \"Frequency (n=10^4)\")\n",
    "abline(v = mu, lwd = 2, col = \"red\")\n",
    "abline(v = mu-sigma, lwd = 2, col = \"blue\")\n",
    "abline(v = mu+sigma, lwd = 2, col = \"blue\")\n",
    "dev.off()\n"
   ]
  }
 ],
 "metadata": {
  "kernelspec": {
   "display_name": "R",
   "language": "R",
   "name": "ir"
  },
  "toc": {
   "base_numbering": 1,
   "nav_menu": {},
   "number_sections": true,
   "sideBar": true,
   "skip_h1_title": false,
   "title_cell": "Table of Contents",
   "title_sidebar": "Contents",
   "toc_cell": false,
   "toc_position": {},
   "toc_section_display": true,
   "toc_window_display": false
  }
 },
 "nbformat": 4,
 "nbformat_minor": 5
}
