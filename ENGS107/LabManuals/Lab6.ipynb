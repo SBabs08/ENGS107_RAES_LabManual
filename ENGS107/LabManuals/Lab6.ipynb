{
 "cells": [
  {
   "cell_type": "markdown",
   "id": "b1c8335a",
   "metadata": {},
   "source": [
    "# Lab #6: Coin flipping and the bootstrap (Patrick J. Applegate and Klaus Keller)"
   ]
  },
  {
   "cell_type": "markdown",
   "id": "d733572e",
   "metadata": {},
   "source": [
    "After completing this exercise, you should be able to\n",
    "\n",
    "* perform a simple bootstrap analysis\n",
    "* use the `sample()` command to both generate series of coin flips and bootstrap replicates from existing data sets"
   ]
  },
  {
   "cell_type": "markdown",
   "id": "d5e31020",
   "metadata": {},
   "source": [
    "## Tutorial"
   ]
  },
  {
   "cell_type": "code",
   "execution_count": null,
   "id": "fa5e68e5",
   "metadata": {},
   "outputs": [],
   "source": [
    "# Perform a simulation of successive estimates of c, the ratio of heads to the\n",
    "# total number of coin flips, for a fair coin.  \n",
    "# Set some values.  \n",
    "true.c <- 0.5         # the true ratio of heads to total flips (0.5 indicates\n",
    "                      # a fair coin)\n",
    "n.flips <- 5* 10^ 2   # how many coin flips to perform\n",
    "# Perform the random sampling and calculate the estimates of c.  1, heads; \n",
    "# 0, tails.  \n",
    "set.seed(1)\n",
    "ht <- sample(x = c(0, 1), size = n.flips, replace = TRUE, \n",
    "             prob = c(true.c, 1- true.c))\n",
    "flips <- seq(from = 1, to = n.flips, by = 1)\n",
    "c.ests <- cumsum(ht)/ flips\n",
    "# Plot up the results.  \n",
    "plot(flips, c.ests, type = \"l\", col = \"blue\", log = \"x\", \n",
    "     xlab = \"Number of flips carried out (log scale)\", ylab = \"Estimates of c\")\n",
    "abline(h = true.c, lty = 2)"
   ]
  },
  {
   "cell_type": "markdown",
   "id": "9401c71d",
   "metadata": {},
   "source": [
    "### Generating bootstrap replicates from a vector of coin flips"
   ]
  },
  {
   "cell_type": "code",
   "execution_count": null,
   "id": "30547e08",
   "metadata": {},
   "outputs": [],
   "source": [
    "# Set up a vector of coin flips that represents the data.  1, heads; 0, tails.  \n",
    "ht.data <- c(0, 0, 0, 0, 0, 1, 1, 1, 1, 1)\n",
    "# Calculate the value of c based on ht.data.  \n",
    "c.data <- sum(ht.data)/ length(ht.data)\n",
    "# Generate one bootstrap replicate based on ht.data and calculate the \n",
    "# associated estimate of c.  \n",
    "set.seed(1)\n",
    "ht.boot <- sample(x = ht.data, size = length(ht.data), replace = TRUE, \n",
    "                  prob = NULL)\n",
    "c.boot <- sum(ht.boot)/ length(ht.boot)\n",
    "# Print the bootstrap replicate and the c estimate to the screen.  \n",
    "print(paste(\"ht.boot =\", paste(ht.boot, collapse = \" \")))\n",
    "print(paste(\"c.boot =\", c.boot))"
   ]
  },
  {
   "cell_type": "code",
   "execution_count": null,
   "id": "131ec69d",
   "metadata": {},
   "outputs": [],
   "source": []
  },
  {
   "cell_type": "markdown",
   "id": "b94ecb16",
   "metadata": {},
   "source": [
    "## Exercise"
   ]
  },
  {
   "cell_type": "code",
   "execution_count": null,
   "id": "f719f811",
   "metadata": {},
   "outputs": [],
   "source": [
    "c.vals <- rep(NA, n.boot)\n",
    "for (i in 1: n.boot) {\n",
    "  # one or more commands for generating the bootstrap replicates go here\n",
    "  c.vals[i] <- # calculate your c values on the right-hand side here\n",
    "}"
   ]
  }
 ],
 "metadata": {
  "kernelspec": {
   "display_name": "R",
   "language": "R",
   "name": "ir"
  },
  "toc": {
   "base_numbering": 1,
   "nav_menu": {},
   "number_sections": true,
   "sideBar": true,
   "skip_h1_title": false,
   "title_cell": "Table of Contents",
   "title_sidebar": "Contents",
   "toc_cell": false,
   "toc_position": {},
   "toc_section_display": true,
   "toc_window_display": false
  }
 },
 "nbformat": 4,
 "nbformat_minor": 5
}
