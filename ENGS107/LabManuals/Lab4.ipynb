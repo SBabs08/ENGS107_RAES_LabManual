{
 "cells": [
  {
   "cell_type": "markdown",
   "id": "41fd18c8",
   "metadata": {},
   "source": [
    "## Lab 4 - The Van Dantzig example\n",
    "What is the economically \"optimal\" height of flood protection structres?"
   ]
  },
  {
   "cell_type": "markdown",
   "id": "220e20f9",
   "metadata": {},
   "source": [
    "### Sample"
   ]
  },
  {
   "cell_type": "code",
   "execution_count": null,
   "id": "6ebe3fbc",
   "metadata": {},
   "outputs": [],
   "source": [
    "# lab4_sample.R\n",
    "# Patrick Applegate, patrick.applegate@psu.edu\n",
    "# \n",
    "# Performs a simple Monte Carlo analysis with the optimal dike height\n",
    "# equation from van Dantzig (1956).  \n",
    "\n",
    "# Clear any existing variables and plots.  \n",
    "rm(list = ls())\n",
    "graphics.off()\n",
    "\n",
    "# Constants from van Dantzig (1956)\n",
    "p_0 = 0.0038      # unitless; probability of flooding in 1 yr if the dikes\n",
    "                  # aren't built\n",
    "alpha = 2.6       # unitless; constant associated with flooding probabilities\n",
    "V = 10^ 10        # guilders; value of goods threatened by flooding\n",
    "delta = 0.04      # unitless; discount rate\n",
    "I_0 = 0           # guilders; initial cost of building dikes\n",
    "k = 42* 10^ 6     # guilders/m; cost of raising the dikes by 1 m\n",
    "\n",
    "# Set some other values.  \n",
    "n.trials <- 10^5  # number of Monte Carlo trials to do\n",
    "range <- 0.1      # fractional range of each parameter to test\n",
    "probs <- c(0.025, 0.5, 0.975)\n",
    "                  # which quantiles to report\n",
    "\n",
    "# Set the seed for random sampling.  \n",
    "set.seed(1)\n",
    "\n",
    "# Perform the random sampling.  \n",
    "facs <- c((1- 0.5* range), (1+ 0.5* range))\n",
    "delta.vals <- runif(n.trials, min = facs[1]* delta, \n",
    "               max = facs[2]* delta)\n",
    "\n",
    "# Calculate the optimal dike heights.  \n",
    "best.heights <- alpha^-1* log((V* p_0* alpha)/ (delta.vals* k))\n",
    "\n",
    "# Make a histogram and print the quantiles to the screen.  \n",
    "hist(best.heights, main = '', xlab = 'Optimal dike heights (m)')\n",
    "abline(v = alpha^-1* log((V* p_0* alpha)/ (delta* k)), lwd = 2, col = 'red')\n",
    "print(round(quantile(best.heights, probs = probs), 3))\n"
   ]
  }
 ],
 "metadata": {
  "kernelspec": {
   "display_name": "R",
   "language": "R",
   "name": "ir"
  },
  "toc": {
   "base_numbering": 1,
   "nav_menu": {},
   "number_sections": true,
   "sideBar": true,
   "skip_h1_title": false,
   "title_cell": "Table of Contents",
   "title_sidebar": "Contents",
   "toc_cell": false,
   "toc_position": {},
   "toc_section_display": true,
   "toc_window_display": false
  }
 },
 "nbformat": 4,
 "nbformat_minor": 5
}
