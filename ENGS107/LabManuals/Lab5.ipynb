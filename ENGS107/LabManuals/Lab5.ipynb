{
 "cells": [
  {
   "cell_type": "markdown",
   "id": "3666cbaa",
   "metadata": {},
   "source": [
    "# Lab #5: Fitting a second-order polynomial to sea level data (Patrick J. Applegate and Ryan L. Sriver)"
   ]
  },
  {
   "cell_type": "markdown",
   "id": "897849c7",
   "metadata": {},
   "source": [
    "After completing this exercise, you should be able to\n",
    "\n",
    "* fit a second-order polynomial to sea level data\n",
    "* write your own functions in R\n",
    "* use `optim()` to perform function minimization"
   ]
  },
  {
   "cell_type": "markdown",
   "id": "e924e344",
   "metadata": {},
   "source": [
    "## Tutorial"
   ]
  },
  {
   "cell_type": "code",
   "execution_count": null,
   "id": "335b2f8a",
   "metadata": {},
   "outputs": [],
   "source": [
    "# Create a directory called data and download a file into it.  \n",
    "dir.create(\"data\")\n",
    "download.file(\"http://www.psmsl.org/products/reconstructions/gslGRL2008.txt\", \n",
    "              \"data/gslGRL2008.txt\")"
   ]
  },
  {
   "cell_type": "code",
   "execution_count": null,
   "id": "658d43b4",
   "metadata": {},
   "outputs": [],
   "source": [
    "# Read in the information from the downloaded file.  \n",
    "sl.data <- read.table(\"data/gslGRL2008.txt\", skip = 14, header = FALSE)\n",
    "# Extract two key vectors from sl.data.  \n",
    "# t, time in years\n",
    "# obs.sl, global mean sea level in mm\n",
    "t <- sl.data[, 1]\n",
    "obs.sl <- sl.data[, 2]\n",
    "# Make a plot.  \n",
    "plot(t, obs.sl, type = \"l\", xlab = \"Time (yr)\", ylab = \"Sea level anomaly (mm)\")"
   ]
  },
  {
   "cell_type": "code",
   "execution_count": null,
   "id": "a264a32d",
   "metadata": {},
   "outputs": [],
   "source": [
    "# Find the root mean squared error between the observed and estimated sea level\n",
    "# anomaly values.  \n",
    "rmse <- sqrt(mean((obs.sl- est.sl)^ 2))\n",
    "print(rmse)"
   ]
  },
  {
   "cell_type": "markdown",
   "id": "e749554b",
   "metadata": {},
   "source": [
    "### Optimization and functions"
   ]
  },
  {
   "cell_type": "code",
   "execution_count": null,
   "id": "eaab9d09",
   "metadata": {},
   "outputs": [],
   "source": [
    "# Sample function for calculating the root mean squared error given a set of\n",
    "# parameters, a vector of time values, and a vector of sea level values.  \n",
    "sl.rmse <- function(params, time, sea.levels) { # don't forget the curly braces\n",
    "  \n",
    "  # Step 1: Pick apart the vector params into its individual values.  \n",
    "  a <- params[1]\n",
    "  b <- params[2]\n",
    "  c <- params[3]\n",
    "  t.0 <- params[4]\n",
    "  \n",
    "  # Step 2: Calculate the estimated sea level anomalies based on a, b, c, t.0,\n",
    "  # and time.  \n",
    "  \n",
    "  # Step 3: Calculate the rmse based on the estimated sea level anomalies\n",
    "  # calculated in Step 2 and the observed values passed into the function\n",
    "  # in sea.levels.  \n",
    "  \n",
    "  # Step 4: Return the rmse value calculated in Step 3.  \n",
    "  return(rmse)\n",
    "  \n",
    "} # don't forget the curly braces"
   ]
  },
  {
   "cell_type": "code",
   "execution_count": null,
   "id": "b3ccd4a7",
   "metadata": {},
   "outputs": [],
   "source": [
    "# Optimize the sl.rmse function.  \n",
    "start <- c(0, 0, -100, 1800)\n",
    "optim.fit <- optim(start, sl.rmse, gr = NULL, time = t, sea.levels = obs.sl)\n",
    "# Extract the parameters of the best-fit polynomial, and the root mean squared\n",
    "# error, from optim_fit.  \n",
    "best.a <- optim.fit$par[1]\n",
    "best.b <- optim.fit$par[2]\n",
    "best.c <- optim.fit$par[3]\n",
    "best.t.0 <- optim.fit$par[4]\n",
    "best.rmse <- optim.fit$value"
   ]
  },
  {
   "cell_type": "markdown",
   "id": "c43c7516",
   "metadata": {},
   "source": [
    "## Sample Script"
   ]
  },
  {
   "cell_type": "code",
   "execution_count": null,
   "id": "a62c8a36",
   "metadata": {},
   "outputs": [],
   "source": [
    "# lab5_sample.R\n",
    "# Patrick Applegate, patrick.applegate@psu.edu\n",
    "# \n",
    "# Downloads sea level anomaly data covering the last ~200 yr, plots these\n",
    "# data with a second-order polynomial, and plots the residuals between the\n",
    "# data and the polynomial.  \n",
    "\n",
    "# Clear away any existing variables or figures.  \n",
    "rm(list = ls())\n",
    "graphics.off()\n",
    "\n",
    "# Set some parameter values.  \n",
    "a <- 0\n",
    "b <- 0\n",
    "c <- -100\n",
    "t.0 <- 1800\n",
    "\n",
    "# Create a directory called data and download a file into it.  \n",
    "dir.create('data')\n",
    "download.file('http://www.psmsl.org/products/reconstructions/gslGRL2008.txt', \n",
    "              'data/gslGRL2008.txt', method = 'curl')\n",
    "\n",
    "# Read in the information from the downloaded file.  \n",
    "sl.data <- read.table('data/gslGRL2008.txt', skip = 14, header = FALSE)\n",
    "\n",
    "# Extract two key vectors from sl.data.  \n",
    "# t, time in years\n",
    "# obs.sl, global mean sea level in mm\n",
    "t <- sl.data[, 1]\n",
    "obs.sl <- sl.data[, 2]\n",
    "\n",
    "# Given the values of a, b, c, and t.0 specified above, estimate the sea level\n",
    "# anomalies in each year using a second-order polynomial.  \n",
    "est.sl <- a* (t- t.0)^ 2+ b* (t- t.0)+ c\n",
    "\n",
    "# Calculate the residuals between the observed and estimated sea level anomaly \n",
    "# values.\n",
    "resids <- obs.sl- est.sl\n",
    "\n",
    "# Find the root mean squared error between the observed and estimated sea level\n",
    "# anomaly values.  \n",
    "rmse <- sqrt(mean((obs.sl- est.sl)^ 2))\n",
    "print(rmse)\n",
    "\n",
    "# Make a plot.  \n",
    "par(mfrow = c(2, 1))\n",
    "plot(t, obs.sl, type = 'l', xlab = 'Time (yr)', ylab = 'Sea level anomaly (mm)', \n",
    "     lwd = 1, col = 'red')\n",
    "lines(t, est.sl, lwd = 1, col = 'blue')\n",
    "legend(x = 'topleft', legend = c('Data', '2nd-Order Polynomial'), lwd = 1, \n",
    "       col = c('red', 'blue'), bty = 'n')\n",
    "plot(t, resids, type = 'l', xlab = 'Time (yr)', ylab = 'Residuals (mm)', \n",
    "     lwd = 1)"
   ]
  },
  {
   "cell_type": "markdown",
   "id": "90503be7",
   "metadata": {},
   "source": [
    "## Exercise"
   ]
  },
  {
   "cell_type": "code",
   "execution_count": null,
   "id": "e47e7e5e",
   "metadata": {},
   "outputs": [],
   "source": []
  }
 ],
 "metadata": {
  "kernelspec": {
   "display_name": "R",
   "language": "R",
   "name": "ir"
  },
  "toc": {
   "base_numbering": 1,
   "nav_menu": {},
   "number_sections": true,
   "sideBar": true,
   "skip_h1_title": false,
   "title_cell": "Table of Contents",
   "title_sidebar": "Contents",
   "toc_cell": false,
   "toc_position": {},
   "toc_section_display": true,
   "toc_window_display": false
  }
 },
 "nbformat": 4,
 "nbformat_minor": 5
}
