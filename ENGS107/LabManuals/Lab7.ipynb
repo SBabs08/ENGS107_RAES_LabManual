{
 "cells": [
  {
   "cell_type": "markdown",
   "id": "e736eed0",
   "metadata": {},
   "source": [
    "# Lab #7: Performing a simple bootstrap with the sea level data (Patrick J. Applegate, Ryan L. Sriver, and Klaus Keller)"
   ]
  },
  {
   "cell_type": "markdown",
   "id": "8a41c3c4",
   "metadata": {},
   "source": [
    "After completing this exercise, you should be able to\n",
    "\n",
    "* perform a very simple bootstrap of time series data by resampling residuals\n",
    "* identify potential problems in applying this approach to \"real\" data, such as the sea level data from Jevrejeva et al. (2008)"
   ]
  },
  {
   "cell_type": "markdown",
   "id": "17926d08",
   "metadata": {},
   "source": [
    "## Tutorial"
   ]
  },
  {
   "cell_type": "code",
   "execution_count": null,
   "id": "12a6824f",
   "metadata": {},
   "outputs": [],
   "source": [
    "# Read in the information from the downloaded file.  \n",
    "sl.data <- read.table(\"data/gslGRL2008.txt\", skip = 14, header = FALSE)\n",
    "# Extract two key vectors from sl.data.  \n",
    "# t, time in years\n",
    "# obs.sl, global mean sea level in mm\n",
    "t <- sl.data[, 1]\n",
    "obs.sl <- sl.data[, 2]\n",
    "# Resample the observations in obs.sl.  \n",
    "re.sl <- sample(obs.sl, length(obs.sl), replace = TRUE)\n",
    "# Make some plots.  \n",
    "par(mfcol = c(1, 2))\n",
    "plot(t, obs.sl, type = \"l\", xlab = \"Time (yr)\", ylab = \"Sea level anomaly (mm)\")\n",
    "plot(t, re.sl, type = \"l\", xlab = \"Time (yr)\", ylab = \"Resampled anomalies (mm)\")"
   ]
  },
  {
   "cell_type": "code",
   "execution_count": null,
   "id": "76c1d6ca",
   "metadata": {},
   "outputs": [],
   "source": [
    "# Generate a bootstrap replicate of the residuals.  \n",
    "boot.resids <- sample(resids, length(resids), replace = TRUE)"
   ]
  },
  {
   "cell_type": "code",
   "execution_count": null,
   "id": "f3281861",
   "metadata": {},
   "outputs": [],
   "source": [
    "# Add the resampled residuals to the best-fit second-order polynomial.  \n",
    "boot.sl <- best.sl+ boot.resids"
   ]
  },
  {
   "cell_type": "code",
   "execution_count": null,
   "id": "ab9d88f8",
   "metadata": {},
   "outputs": [],
   "source": [
    "boot.start <- c(best.a, best.b, best.c, best.t.0)\n",
    "boot.fit <- optim(boot.start, sl.rmse, gr = NULL, time = t, \n",
    "                  sea.levels = boot.sl)\n",
    "# Extract the new parameter values from boot.fit.  \n",
    "boot.a <- boot.fit$par[1]\n",
    "boot.b <- boot.fit$par[2]\n",
    "boot.c <- boot.fit$par[3]\n",
    "boot.t.0 <- boot.fit$par[4]"
   ]
  },
  {
   "cell_type": "code",
   "execution_count": null,
   "id": "f6e65648",
   "metadata": {},
   "outputs": [],
   "source": [
    "# Define a vector of years extending from 1700 to 2100.  \n",
    "proj.t <- seq(1700, 2100)\n",
    "# Estimate the trends in past and future sea levels based on boot.a, etc.\n",
    "proj.sl <- boot.a* (proj.t- boot.t.0)^ 2+ boot.b* (proj.t- boot.t.0)+ boot.c"
   ]
  },
  {
   "cell_type": "markdown",
   "id": "0141ec9f",
   "metadata": {},
   "source": [
    "## Exercise"
   ]
  },
  {
   "cell_type": "code",
   "execution_count": null,
   "id": "9cda4be2",
   "metadata": {},
   "outputs": [],
   "source": []
  },
  {
   "cell_type": "code",
   "execution_count": null,
   "id": "bf3aca9d",
   "metadata": {},
   "outputs": [],
   "source": []
  },
  {
   "cell_type": "code",
   "execution_count": null,
   "id": "0b6c45d7",
   "metadata": {},
   "outputs": [],
   "source": []
  }
 ],
 "metadata": {
  "kernelspec": {
   "display_name": "R",
   "language": "R",
   "name": "ir"
  },
  "toc": {
   "base_numbering": 1,
   "nav_menu": {},
   "number_sections": true,
   "sideBar": true,
   "skip_h1_title": false,
   "title_cell": "Table of Contents",
   "title_sidebar": "Contents",
   "toc_cell": false,
   "toc_position": {},
   "toc_section_display": true,
   "toc_window_display": false
  }
 },
 "nbformat": 4,
 "nbformat_minor": 5
}
