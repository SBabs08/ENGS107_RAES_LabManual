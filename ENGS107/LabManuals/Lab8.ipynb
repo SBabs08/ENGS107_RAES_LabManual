{
 "cells": [
  {
   "cell_type": "markdown",
   "id": "556e29eb",
   "metadata": {},
   "source": [
    "# Lab #8: Climate policy and the DICE model (Patrick J. Applegate, Gregory G. Garner, Richard B. Alley, and Klaus Keller)"
   ]
  },
  {
   "cell_type": "markdown",
   "id": "2b92c733",
   "metadata": {},
   "source": [
    "After completing this exercise, you should be able to\n",
    "\n",
    "* describe what the social cost of carbon (SCC) is\n",
    "* explain in broad terms what the DICE model is and how it works\n",
    "* perform simple calculations with the DICE model\n",
    "* describe how uncertainties in the climate sensitivity affect the present-day social cost of carbon"
   ]
  },
  {
   "cell_type": "markdown",
   "id": "beb6889b",
   "metadata": {},
   "source": [
    "## Tutorial"
   ]
  },
  {
   "cell_type": "code",
   "execution_count": null,
   "id": "55c76ed3",
   "metadata": {},
   "outputs": [],
   "source": [
    "lab8_done.R\n",
    "# Patrick Applegate, patrick.applegate@psu.edu; Greg Garner, ggg121@psu.edu\n",
    "# \n",
    "# Optimizes the DICE model to produce a plausible climate-economic trajectory\n",
    "# and performs a Monte Carlo experiment to evaluate the effects of uncertainty\n",
    "# in the climate sensitivity on the present-day social cost of carbon.  \n",
    "# Mise en place.  \n",
    "rm(list = ls())\n",
    "graphics.off()\n",
    "# Load the DICE model.  \n",
    "source(\"dice.R\")\n",
    "# Create a new DICE object.  \n",
    "my.dice <- dice.new()"
   ]
  },
  {
   "cell_type": "code",
   "execution_count": null,
   "id": "a13cb450",
   "metadata": {},
   "outputs": [],
   "source": [
    "# Solve the DICE object for the optimal control policy.  \n",
    "# NOTE: THIS STEP MAY TAKE A COUPLE OF MINUTES!  \n",
    "dice.solve(my.dice)\n",
    "# Set sensible names for the time-dependent variables to extract from DICE.  \n",
    "names <- c(\"Time (yr)\", \n",
    "           \"Emissions (Gt CO_2/yr)\", \n",
    "           \"Atmospheric [CO_2] (ppm)\", \n",
    "           \"Global mean T anomaly (C)\", \n",
    "           \"Climate damages (10^12 $)\", \n",
    "           \"Social cost of carbon ($/t CO_2)\")\n",
    "# Make a place to store time-dependent output from optimized DICE.  \n",
    "opt.output <- matrix(data = NA, nrow = length(my.dice$year), ncol = 6)\n",
    "colnames(opt.output) <- names\n",
    "# Put the time.dependent output from optimized DICE into opt.output.  \n",
    "opt.output[, 1] <- my.dice$year\n",
    "opt.output[, 2] <- my.dice$e\n",
    "opt.output[, 3] <- my.dice$mat\n",
    "opt.output[, 4] <- my.dice$tatm\n",
    "opt.output[, 5] <- my.dice$damages\n",
    "opt.output[, 6] <- my.dice$scc"
   ]
  },
  {
   "cell_type": "code",
   "execution_count": null,
   "id": "5a794678",
   "metadata": {},
   "outputs": [],
   "source": [
    "# Plot the time-dependent output from the optimized DICE object.  \n",
    "pdf(\"lab8_plot1.pdf\", width = 5, height = 8.5)\n",
    "par(mfrow = c(5, 1))\n",
    "plot(opt.output[, 1], opt.output[, 2], type = \"l\", bty = \"n\", xlab = names[1], \n",
    "     ylab = names[2])\n",
    "plot(opt.output[, 1], opt.output[, 3], type = \"l\", bty = \"n\", xlab = names[1], \n",
    "     ylab = names[3])\n",
    "plot(opt.output[, 1], opt.output[, 4], type = \"l\", bty = \"n\", xlab = names[1], \n",
    "     ylab = names[4])\n",
    "plot(opt.output[, 1], opt.output[, 5], type = \"l\", bty = \"n\", xlab = names[1], \n",
    "     ylab = names[5])\n",
    "plot(opt.output[, 1], opt.output[, 6], type = \"l\", bty = \"n\", xlab = names[1], \n",
    "     ylab = names[6])\n",
    "dev.off()"
   ]
  },
  {
   "cell_type": "markdown",
   "id": "95a8b55c",
   "metadata": {},
   "source": [
    "### Running DICE in optimization mode and examining its time-varying output"
   ]
  },
  {
   "cell_type": "code",
   "execution_count": null,
   "id": "cb79e37b",
   "metadata": {},
   "outputs": [],
   "source": [
    "# Also extract the preset climate sensitivity and social cost of carbon\n",
    "# from the DICE object.  \n",
    "opt.t2xCO2 <- my.dice$t2xCO2\n",
    "opt.scc <- opt.output[1, 6]\n",
    "# Print some key quantities.  \n",
    "print(sprintf(\"The assumed climate sensitivity for optimization is %2.2f C/doubling\", \n",
    "              opt.t2xCO2))\n",
    "print(sprintf(\"The optimized social cost of carbon in %d is $%4.2f/t CO_2\", \n",
    "              opt.output[1, 1], opt.scc))"
   ]
  },
  {
   "cell_type": "markdown",
   "id": "6a420253",
   "metadata": {},
   "source": [
    "### Accounting for uncertainty in the climate sensitivity"
   ]
  },
  {
   "cell_type": "code",
   "execution_count": null,
   "id": "9da5dedc",
   "metadata": {},
   "outputs": [],
   "source": [
    "# Set some values.  \n",
    "xs <- c(1, 6)       # climate sensitivities corresponding to the probabilities \n",
    "                    # in ps\n",
    "ps <- c(0.05, (1- 0.1))\n",
    "                    # (approximate) probabilities of the climate sensitivity\n",
    "                    # being less than xs[1] or greater than xs[2], according \n",
    "                    # to IPCC AR5 WG1\n",
    "n.trials <- 300     # number of Monte Carlo trials\n",
    "# Define a function for matching the lognormal distribution to two (or more)\n",
    "# tie points.  \n",
    "lnorm.rmse <- function(dist.params, xs, ps) {\n",
    "  # dist.params, vector of meanlog and sdlog values; \n",
    "  # see help(dlnorm)\n",
    "  # xs, vector of values of the distributed variable to match\n",
    "  # ps, probabilities of the values in xs\n",
    "  logmu <- dist.params[1]\n",
    "  logsigma <- dist.params[2]\n",
    "  trial.xs <- qlnorm(ps, logmu, logsigma)\n",
    "  rmse <- sqrt(mean((xs- trial.xs)^ 2))\n",
    "  return(rmse)\n",
    "}\n",
    "# Identify the parameters of the lognormal distribution that produce the best\n",
    "# match to the IPCC's statements about climate sensitivity.  \n",
    "lnorm.optim <- optim(log(c(2.9, 1.5)), lnorm.rmse, gr = NULL, xs = xs, ps = ps, \n",
    "                     method = \"L-BFGS-B\", lower = c(0, 0), upper = c(Inf, Inf))\n",
    "# Generate a vector of climate sensitivity values.  \n",
    "set.seed(1)\n",
    "tx2CO2s <- rlnorm(n.trials, meanlog = lnorm.optim$par[1], \n",
    "                  sdlog = lnorm.optim$par[2])"
   ]
  },
  {
   "cell_type": "markdown",
   "id": "970116dd",
   "metadata": {},
   "source": [
    "## Sample Script"
   ]
  },
  {
   "cell_type": "code",
   "execution_count": null,
   "id": "8df0be92",
   "metadata": {},
   "outputs": [],
   "source": []
  },
  {
   "cell_type": "markdown",
   "id": "15bd677b",
   "metadata": {},
   "source": [
    "## Exercise"
   ]
  },
  {
   "cell_type": "code",
   "execution_count": null,
   "id": "2f7f69df",
   "metadata": {},
   "outputs": [],
   "source": []
  }
 ],
 "metadata": {
  "kernelspec": {
   "display_name": "R",
   "language": "R",
   "name": "ir"
  },
  "toc": {
   "base_numbering": 1,
   "nav_menu": {},
   "number_sections": true,
   "sideBar": true,
   "skip_h1_title": false,
   "title_cell": "Table of Contents",
   "title_sidebar": "Contents",
   "toc_cell": false,
   "toc_position": {},
   "toc_section_display": true,
   "toc_window_display": false
  }
 },
 "nbformat": 4,
 "nbformat_minor": 5
}
